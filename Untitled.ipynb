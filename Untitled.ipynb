{
 "cells": [
  {
   "cell_type": "code",
   "execution_count": 45,
   "metadata": {
    "collapsed": true
   },
   "outputs": [],
   "source": [
    "import numpy as np "
   ]
  },
  {
   "cell_type": "code",
   "execution_count": 36,
   "metadata": {
    "collapsed": true
   },
   "outputs": [],
   "source": [
    "a = [\"abcd efgh ijk in or in    ttyyooll\",\"1234 00 5678 99 00\"]\n",
    "\n"
   ]
  },
  {
   "cell_type": "code",
   "execution_count": 37,
   "metadata": {
    "scrolled": true
   },
   "outputs": [
    {
     "name": "stdout",
     "output_type": "stream",
     "text": [
      "['abcd efgh ijk in or in    ttyyooll', '1234 00 5678 99 00']\n",
      "['abcd', 'efgh', 'ijk', 'in', 'or', 'in', 'ttyyooll', '1234', '00', '5678', '99', '00']\n"
     ]
    }
   ],
   "source": [
    "print(a)\n",
    "\n",
    "words = \" \".join(a)\n",
    "words = words.split()\n",
    "print(words)\n"
   ]
  },
  {
   "cell_type": "code",
   "execution_count": 38,
   "metadata": {
    "collapsed": true
   },
   "outputs": [],
   "source": [
    "from collections import Counter\n",
    "counts = Counter(words)\n",
    "vocab = sorted(counts, key=counts.get, reverse=True)\n",
    "vocab_to_int = {word: ii for ii, word in enumerate(vocab, 1)}"
   ]
  },
  {
   "cell_type": "code",
   "execution_count": 39,
   "metadata": {},
   "outputs": [
    {
     "data": {
      "text/plain": [
       "['in', '00', 'abcd', 'efgh', 'ijk', 'or', 'ttyyooll', '1234', '5678', '99']"
      ]
     },
     "execution_count": 39,
     "metadata": {},
     "output_type": "execute_result"
    }
   ],
   "source": [
    "vocab\n"
   ]
  },
  {
   "cell_type": "code",
   "execution_count": 42,
   "metadata": {},
   "outputs": [
    {
     "data": {
      "text/plain": [
       "['abcd', 'efgh', 'ijk', 'or', 'ttyyooll', '1234', '5678', '99', 'in', '00']"
      ]
     },
     "execution_count": 42,
     "metadata": {},
     "output_type": "execute_result"
    }
   ],
   "source": [
    "sorted(counts, key=counts.get, reverse=False)"
   ]
  },
  {
   "cell_type": "code",
   "execution_count": 84,
   "metadata": {},
   "outputs": [
    {
     "data": {
      "text/plain": [
       "array([  1,   2,   3,   4,   5,   6,   7,   8,   9, 111, 666, 333, 444,\n",
       "       555, 666, 888, 999])"
      ]
     },
     "execution_count": 84,
     "metadata": {},
     "output_type": "execute_result"
    }
   ],
   "source": [
    "a = [111,666,333,444,555,666,888,999]\n",
    "b = np.array([1,2,3,4,5,6,7,8,9,99,1,2,3,4,5,6,7])\n",
    "\n",
    "\n",
    "b[-len(a):] = np.array(a)\n",
    "\n",
    "b"
   ]
  },
  {
   "cell_type": "code",
   "execution_count": 94,
   "metadata": {},
   "outputs": [
    {
     "name": "stdout",
     "output_type": "stream",
     "text": [
      "200\n",
      "4\n"
     ]
    }
   ],
   "source": [
    "class abc:\n",
    "    def __init__(self, featureExtractor):\n",
    "        self.max_sequence_length = 200\n",
    "        self.FeatureExtractor = featureExtractor\n",
    "        \n",
    "    def test(self):\n",
    "        print(self.max_sequence_length)\n",
    "        print(self.FeatureExtractor.FeatureExtractor)\n",
    "        \n",
    "x = abc(abc(4))\n",
    "x.test()"
   ]
  }
 ],
 "metadata": {
  "kernelspec": {
   "display_name": "Python 3",
   "language": "python",
   "name": "python3"
  },
  "language_info": {
   "codemirror_mode": {
    "name": "ipython",
    "version": 3
   },
   "file_extension": ".py",
   "mimetype": "text/x-python",
   "name": "python",
   "nbconvert_exporter": "python",
   "pygments_lexer": "ipython3",
   "version": "3.6.1"
  }
 },
 "nbformat": 4,
 "nbformat_minor": 2
}
